{
  "nbformat": 4,
  "nbformat_minor": 0,
  "metadata": {
    "colab": {
      "provenance": [],
      "authorship_tag": "ABX9TyP1YJa1HXrR7wtIkYWtaj3w",
      "include_colab_link": true
    },
    "kernelspec": {
      "name": "python3",
      "display_name": "Python 3"
    },
    "language_info": {
      "name": "python"
    }
  },
  "cells": [
    {
      "cell_type": "markdown",
      "metadata": {
        "id": "view-in-github",
        "colab_type": "text"
      },
      "source": [
        "<a href=\"https://colab.research.google.com/github/jaunpurSHIVANGI/linux-codes-/blob/main/Untitled0.ipynb\" target=\"_parent\"><img src=\"https://colab.research.google.com/assets/colab-badge.svg\" alt=\"Open In Colab\"/></a>"
      ]
    },
    {
      "cell_type": "code",
      "execution_count": 6,
      "metadata": {
        "colab": {
          "base_uri": "https://localhost:8080/",
          "height": 140
        },
        "id": "cNoqDE3M_ebi",
        "outputId": "50c87630-1772-4028-9407-067c2abd88f4"
      },
      "outputs": [
        {
          "output_type": "error",
          "ename": "SyntaxError",
          "evalue": "expected ':' (<ipython-input-6-211edf56c1d1>, line 6)",
          "traceback": [
            "\u001b[0;36m  File \u001b[0;32m\"<ipython-input-6-211edf56c1d1>\"\u001b[0;36m, line \u001b[0;32m6\u001b[0m\n\u001b[0;31m    else\u001b[0m\n\u001b[0m        ^\u001b[0m\n\u001b[0;31mSyntaxError\u001b[0m\u001b[0;31m:\u001b[0m expected ':'\n"
          ]
        }
      ],
      "source": [
        "weight = int(input(\"enter the weight\"))\n",
        "unit = input(\"enter the unit\")\n",
        "if unit == \"k\":\n",
        "  weight = weight * 0.45\n",
        "  print(weight)\n",
        "else\n",
        "  weight = weight / 0.45\n",
        "  print(weight)"
      ]
    },
    {
      "cell_type": "code",
      "source": [
        "#write a program on car automation\n",
        "command = \"start\"\n",
        "print(start)\n",
        "if\n",
        "  (\"when car is on\")\n",
        "elif\n",
        "command = \"stop\"\n",
        "command = \"quit\"\n",
        "command = \"help\"\n"
      ],
      "metadata": {
        "id": "TO3CQqwfCfge"
      },
      "execution_count": null,
      "outputs": []
    },
    {
      "cell_type": "code",
      "source": [
        "for s in (\"smart\"):\n",
        "  print(s)\n",
        "for h in (\"happiest\"):\n",
        "  print(h)\n",
        "for i in (\"intellegent\"):\n",
        "  print(i)\n",
        "for v in (\"very good\"):\n",
        "  print(v)\n",
        "for a in (\"antique\"):\n",
        "  print(a)\n",
        "\n"
      ],
      "metadata": {
        "id": "qQBuYQAP2VmW",
        "outputId": "0381540e-5a5c-4d02-b8ec-560355e57034",
        "colab": {
          "base_uri": "https://localhost:8080/"
        }
      },
      "execution_count": 6,
      "outputs": [
        {
          "output_type": "stream",
          "name": "stdout",
          "text": [
            "s\n",
            "m\n",
            "a\n",
            "r\n",
            "t\n",
            "h\n",
            "a\n",
            "p\n",
            "p\n",
            "i\n",
            "e\n",
            "s\n",
            "t\n",
            "i\n",
            "n\n",
            "t\n",
            "e\n",
            "l\n",
            "l\n",
            "e\n",
            "g\n",
            "e\n",
            "n\n",
            "t\n",
            "v\n",
            "e\n",
            "r\n",
            "y\n",
            " \n",
            "g\n",
            "o\n",
            "o\n",
            "d\n",
            "a\n",
            "n\n",
            "t\n",
            "i\n",
            "q\n",
            "u\n",
            "e\n"
          ]
        }
      ]
    },
    {
      "cell_type": "code",
      "source": [
        "a= [1,2]\n",
        "b= [3,4]\n",
        "for i in a:\n",
        "  for j in b:\n",
        "    print(\"inside the inner loop\")\n",
        "    print(i,j)\n",
        "    print (\"outside the inner loop\")"
      ],
      "metadata": {
        "id": "grO47R3P948k",
        "outputId": "23710166-2a62-4b72-90ab-c222c99b0ffb",
        "colab": {
          "base_uri": "https://localhost:8080/"
        }
      },
      "execution_count": 7,
      "outputs": [
        {
          "output_type": "stream",
          "name": "stdout",
          "text": [
            "inside the inner loop\n",
            "1 3\n",
            "outside the inner loop\n",
            "inside the inner loop\n",
            "1 4\n",
            "outside the inner loop\n",
            "inside the inner loop\n",
            "2 3\n",
            "outside the inner loop\n",
            "inside the inner loop\n",
            "2 4\n",
            "outside the inner loop\n"
          ]
        }
      ]
    }
  ]
}